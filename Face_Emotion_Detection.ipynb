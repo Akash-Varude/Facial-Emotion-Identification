{
  "nbformat": 4,
  "nbformat_minor": 0,
  "metadata": {
    "colab": {
      "name": "Face_Emotion_Detection.ipynb",
      "provenance": [],
      "collapsed_sections": []
    },
    "kernelspec": {
      "name": "python3",
      "display_name": "Python 3"
    },
    "accelerator": "GPU"
  },
  "cells": [
    {
      "cell_type": "code",
      "metadata": {
        "id": "3fziVDpJuciJ",
        "colab_type": "code",
        "colab": {}
      },
      "source": [
        "import tensorflow as tf"
      ],
      "execution_count": 0,
      "outputs": []
    },
    {
      "cell_type": "markdown",
      "metadata": {
        "id": "fd9zFn9TbsVh",
        "colab_type": "text"
      },
      "source": [
        ""
      ]
    },
    {
      "cell_type": "code",
      "metadata": {
        "id": "TqwHZ1D_u4uM",
        "colab_type": "code",
        "outputId": "cd8a849f-ef24-4eab-91ab-54ed140f6563",
        "colab": {
          "base_uri": "https://localhost:8080/",
          "height": 35
        }
      },
      "source": [
        "tf.__version__"
      ],
      "execution_count": 0,
      "outputs": [
        {
          "output_type": "execute_result",
          "data": {
            "text/plain": [
              "'2.2.0'"
            ]
          },
          "metadata": {
            "tags": []
          },
          "execution_count": 282
        }
      ]
    },
    {
      "cell_type": "code",
      "metadata": {
        "id": "hUTCVE7MVIYc",
        "colab_type": "code",
        "outputId": "95e460d0-e998-4bcb-fff7-4147efe42dbc",
        "colab": {
          "base_uri": "https://localhost:8080/",
          "height": 35
        }
      },
      "source": [
        "from google.colab import drive\n",
        "drive.mount('/content/drive')"
      ],
      "execution_count": 0,
      "outputs": [
        {
          "output_type": "stream",
          "text": [
            "Drive already mounted at /content/drive; to attempt to forcibly remount, call drive.mount(\"/content/drive\", force_remount=True).\n"
          ],
          "name": "stdout"
        }
      ]
    },
    {
      "cell_type": "code",
      "metadata": {
        "id": "PUYr3JvsvC2a",
        "colab_type": "code",
        "colab": {}
      },
      "source": [
        "import cv2\n",
        "import pandas as pd\n",
        "import numpy as np\n",
        "import matplotlib.pyplot as plt\n",
        "from tensorflow.keras.layers import Dense,Flatten,Conv2D\n",
        "from tensorflow.keras.models import Sequential\n",
        "from google.colab.patches import cv2_imshow"
      ],
      "execution_count": 0,
      "outputs": []
    },
    {
      "cell_type": "code",
      "metadata": {
        "id": "l4tutbKky1HE",
        "colab_type": "code",
        "colab": {}
      },
      "source": [
        "angerUrl=\"/content/drive/My Drive/Projects/Facial Expression Detection/Facial Expression Detection/CK+48/anger/\"\n",
        "contemptUrl=\"/content/drive/My Drive/Projects/Facial Expression Detection/Facial Expression Detection/CK+48/contempt/\"\n",
        "disgustUrl=\"/content/drive/My Drive/Projects/Facial Expression Detection/Facial Expression Detection/CK+48/disgust/\"\n",
        "fearUrl=\"/content/drive/My Drive/Projects/Facial Expression Detection/Facial Expression Detection/CK+48/fear/\"\n",
        "happyUrl=\"/content/drive/My Drive/Projects/Facial Expression Detection/Facial Expression Detection/CK+48/happy/\"\n",
        "sadnessUrl=\"/content/drive/My Drive/Projects/Facial Expression Detection/Facial Expression Detection/CK+48/sadness/\"\n",
        "surpriseUrl=\"/content/drive/My Drive/Projects/Facial Expression Detection/Facial Expression Detection/CK+48/surprise/\"\n"
      ],
      "execution_count": 0,
      "outputs": []
    },
    {
      "cell_type": "code",
      "metadata": {
        "id": "0bufC57x2GTn",
        "colab_type": "code",
        "colab": {}
      },
      "source": [
        "img1=cv2.imread(str(angerUrl)+\"S010_004_00000017.png\",1)"
      ],
      "execution_count": 0,
      "outputs": []
    },
    {
      "cell_type": "code",
      "metadata": {
        "id": "9ir_S_-j2bll",
        "colab_type": "code",
        "outputId": "4b155195-7876-44ec-80e7-c05ba4c61109",
        "colab": {
          "base_uri": "https://localhost:8080/",
          "height": 65
        }
      },
      "source": [
        "cv2_imshow(img1)"
      ],
      "execution_count": 0,
      "outputs": [
        {
          "output_type": "display_data",
          "data": {
            "image/png": "[encoded data removed]",
            "text/plain": [
              "<PIL.Image.Image image mode=RGB size=48x48 at 0x7FBE7E73C860>"
            ]
          },
          "metadata": {
            "tags": []
          }
        }
      ]
    },
    {
      "cell_type": "code",
      "metadata": {
        "id": "awDqPnL55ewP",
        "colab_type": "code",
        "outputId": "7857c510-e783-4b87-c164-fc112e7bda25",
        "colab": {
          "base_uri": "https://localhost:8080/",
          "height": 144
        }
      },
      "source": [
        "import os\n",
        "angerdirs = os.listdir(angerUrl)\n",
        "contemptdirs = os.listdir(contemptUrl)\n",
        "disgustdirs = os.listdir(disgustUrl)\n",
        "feardirs = os.listdir(fearUrl)\n",
        "happydirs = os.listdir(happyUrl)\n",
        "sadnessdirs = os.listdir(sadnessUrl)\n",
        "surprisedirs = os.listdir(surpriseUrl)\n",
        "\n",
        "anger=[]\n",
        "contempt=[]\n",
        "disgust=[]\n",
        "fear=[]\n",
        "happy=[]\n",
        "sadness=[]\n",
        "surprise=[]\n",
        "for file in angerdirs:\n",
        "   anger.append(file)\n",
        "print(len(anger))\n",
        "for file in contemptdirs:\n",
        "   contempt.append(file)\n",
        "print(len(contempt))\n",
        "for file in disgustdirs:\n",
        "   disgust.append(file)\n",
        "print(len(disgust))\n",
        "for file in feardirs:\n",
        "   fear.append(file)\n",
        "print(len(fear))\n",
        "for file in happydirs:\n",
        "   happy.append(file)\n",
        "print(len(happy))\n",
        "for file in sadnessdirs:\n",
        "   sadness.append(file)\n",
        "print(len(sadness))\n",
        "for file in surprisedirs:\n",
        "   surprise.append(file)\n",
        "print(len(surprise))"
      ],
      "execution_count": 0,
      "outputs": [
        {
          "output_type": "stream",
          "text": [
            "135\n",
            "54\n",
            "177\n",
            "75\n",
            "207\n",
            "84\n",
            "249\n"
          ],
          "name": "stdout"
        }
      ]
    },
    {
      "cell_type": "code",
      "metadata": {
        "id": "OhsVKF1V_OmB",
        "colab_type": "code",
        "outputId": "03e390c1-9f03-4f0e-ee5a-7f29da5b6235",
        "colab": {
          "base_uri": "https://localhost:8080/",
          "height": 162
        }
      },
      "source": [
        "inputimages=[]\n",
        "angerdata=[]\n",
        "count=0\n",
        "for file in anger:\n",
        "  temp=cv2.imread(str(angerUrl)+str(file),1)\n",
        "  angerdata.append(temp)\n",
        "  inputimages.append(temp)\n",
        "print(len(angerdata))\n",
        "contemptdata=[]\n",
        "for file in contempt:\n",
        "  temp=cv2.imread(str(contemptUrl)+str(file),1)\n",
        "  contemptdata.append(temp)\n",
        "  inputimages.append(temp)\n",
        "print(len(contempt))\n",
        "disgustdata=[]\n",
        "\n",
        "for file in disgust:\n",
        "  temp=cv2.imread(str(disgustUrl)+str(file),1)\n",
        "  disgustdata.append(temp)\n",
        "  inputimages.append(temp)\n",
        "  \n",
        "print(len(disgust))\n",
        "feardata=[]\n",
        "for file in fear:\n",
        "  temp=cv2.imread(str(fearUrl)+str(file),1)\n",
        "  feardata.append(temp)\n",
        "  inputimages.append(temp)\n",
        "print(len(feardata))\n",
        "happydata=[]\n",
        "for file in happy:\n",
        "  temp=cv2.imread(str(happyUrl)+str(file),1)\n",
        "  happydata.append(temp)\n",
        "  inputimages.append(temp)\n",
        "print(len(happydata))\n",
        "sadnessdata=[]\n",
        "for file in sadness:\n",
        "  temp=cv2.imread(str(sadnessUrl)+str(file),1)\n",
        "  sadnessdata.append(temp)\n",
        "  inputimages.append(temp)\n",
        "print(len(sadnessdata))\n",
        "surprisedata=[]\n",
        "for file in surprise:\n",
        "  temp=cv2.imread(str(surpriseUrl)+str(file),1)\n",
        "  surprisedata.append(temp)\n",
        "  inputimages.append(temp)\n",
        "print(len(surprisedata))\n",
        "print(len(inputimages))"
      ],
      "execution_count": 0,
      "outputs": [
        {
          "output_type": "stream",
          "text": [
            "135\n",
            "54\n",
            "177\n",
            "75\n",
            "207\n",
            "84\n",
            "249\n",
            "981\n"
          ],
          "name": "stdout"
        }
      ]
    },
    {
      "cell_type": "code",
      "metadata": {
        "id": "7e_cDu7Ibh1E",
        "colab_type": "code",
        "colab": {}
      },
      "source": [
        ""
      ],
      "execution_count": 0,
      "outputs": []
    },
    {
      "cell_type": "code",
      "metadata": {
        "id": "uVgEjJpS_aEF",
        "colab_type": "code",
        "colab": {}
      },
      "source": [
        "angerdata=np.array(angerdata)\n",
        "contemptdata=np.array(contemptdata)\n",
        "disgustdata=np.array(disgustdata)\n",
        "feardata=np.array(feardata)\n",
        "happydata=np.array(happydata)\n",
        "sadnessdata=np.array(sadnessdata)\n",
        "surprisedata=np.array(surprisedata)\n",
        "inputimages=np.array(inputimages)"
      ],
      "execution_count": 0,
      "outputs": []
    },
    {
      "cell_type": "code",
      "metadata": {
        "id": "WNrC9f60_277",
        "colab_type": "code",
        "outputId": "32f261bc-5e0e-4bab-f41c-95924c35e260",
        "colab": {
          "base_uri": "https://localhost:8080/",
          "height": 162
        }
      },
      "source": [
        "print(angerdata.shape)\n",
        "print(contemptdata.shape)\n",
        "print(disgustdata.shape)\n",
        "print(feardata.shape)\n",
        "print(happydata.shape)\n",
        "print(sadnessdata.shape)\n",
        "print(surprisedata.shape)\n",
        "print(inputimages.shape)"
      ],
      "execution_count": 0,
      "outputs": [
        {
          "output_type": "stream",
          "text": [
            "(135, 48, 48, 3)\n",
            "(54, 48, 48, 3)\n",
            "(177, 48, 48, 3)\n",
            "(75, 48, 48, 3)\n",
            "(207, 48, 48, 3)\n",
            "(84, 48, 48, 3)\n",
            "(249, 48, 48, 3)\n",
            "(981, 48, 48, 3)\n"
          ],
          "name": "stdout"
        }
      ]
    },
    {
      "cell_type": "code",
      "metadata": {
        "id": "BV_6-6yHFYUc",
        "colab_type": "code",
        "outputId": "f48a1f38-26db-4ef2-8184-3890b5900b33",
        "colab": {
          "base_uri": "https://localhost:8080/",
          "height": 35
        }
      },
      "source": [
        "Y=[]\n",
        "for i in range(135):\n",
        "  Y.append(0)\n",
        "for i in range(135,189):\n",
        "  Y.append(1)\n",
        "for i in range(189,366):\n",
        "  Y.append(2)\n",
        "for i in range(366,441):\n",
        "  Y.append(3)\n",
        "for i in range(441,648):\n",
        "  Y.append(4)\n",
        "for i in range(648,732):\n",
        "  Y.append(5)\n",
        "for i in range(732,981):\n",
        "  Y.append(6)\n",
        "print(len(Y))"
      ],
      "execution_count": 0,
      "outputs": [
        {
          "output_type": "stream",
          "text": [
            "981\n"
          ],
          "name": "stdout"
        }
      ]
    },
    {
      "cell_type": "code",
      "metadata": {
        "id": "xK0RgEIuL_MX",
        "colab_type": "code",
        "colab": {}
      },
      "source": [
        "Y=np.array(Y)"
      ],
      "execution_count": 0,
      "outputs": []
    },
    {
      "cell_type": "code",
      "metadata": {
        "id": "O608LH0cMLHK",
        "colab_type": "code",
        "colab": {}
      },
      "source": [
        "from sklearn.model_selection import train_test_split"
      ],
      "execution_count": 0,
      "outputs": []
    },
    {
      "cell_type": "code",
      "metadata": {
        "id": "hVXbMeYShG5z",
        "colab_type": "code",
        "colab": {}
      },
      "source": [
        "x_train,x_test,y_train,y_test=train_test_split(inputimages,Y,test_size=0.1)"
      ],
      "execution_count": 0,
      "outputs": []
    },
    {
      "cell_type": "code",
      "metadata": {
        "id": "KfhBkDIThn25",
        "colab_type": "code",
        "outputId": "3a722d89-4c5b-41c8-e554-5716b5741686",
        "colab": {
          "base_uri": "https://localhost:8080/",
          "height": 90
        }
      },
      "source": [
        "print(x_train.shape)\n",
        "print(y_train.shape)\n",
        "print(x_test.shape)\n",
        "print(y_test.shape)"
      ],
      "execution_count": 0,
      "outputs": [
        {
          "output_type": "stream",
          "text": [
            "(882, 48, 48, 3)\n",
            "(882,)\n",
            "(99, 48, 48, 3)\n",
            "(99,)\n"
          ],
          "name": "stdout"
        }
      ]
    },
    {
      "cell_type": "code",
      "metadata": {
        "id": "8FpOHY0i4REs",
        "colab_type": "code",
        "colab": {}
      },
      "source": [
        ""
      ],
      "execution_count": 0,
      "outputs": []
    },
    {
      "cell_type": "code",
      "metadata": {
        "id": "7E4Fi_K235xL",
        "colab_type": "code",
        "outputId": "558e217a-f9b5-4d1f-a7f9-6ed92aba9e13",
        "colab": {
          "base_uri": "https://localhost:8080/",
          "height": 285
        }
      },
      "source": [
        "plt.imshow(x_train[0])"
      ],
      "execution_count": 0,
      "outputs": [
        {
          "output_type": "execute_result",
          "data": {
            "text/plain": [
              "<matplotlib.image.AxesImage at 0x7fbe2f0ab2e8>"
            ]
          },
          "metadata": {
            "tags": []
          },
          "execution_count": 639
        },
        {
          "output_type": "display_data",
          "data": {
            "image/png": "[encoded data removed]",
            "text/plain": [
              "<Figure size 432x288 with 1 Axes>"
            ]
          },
          "metadata": {
            "tags": [],
            "needs_background": "light"
          }
        }
      ]
    },
    {
      "cell_type": "code",
      "metadata": {
        "id": "Bl8Z7qYMh11d",
        "colab_type": "code",
        "colab": {}
      },
      "source": [
        "x_train=x_train/255.0\n",
        "x_test=x_test/255.0"
      ],
      "execution_count": 0,
      "outputs": []
    },
    {
      "cell_type": "code",
      "metadata": {
        "id": "3vDPYGfniIWL",
        "colab_type": "code",
        "outputId": "7bdd45d7-d361-44dc-e97c-d7f489e1f635",
        "colab": {
          "base_uri": "https://localhost:8080/",
          "height": 53
        }
      },
      "source": [
        "print(np.max(x_train))\n",
        "print(np.min(x_train))"
      ],
      "execution_count": 0,
      "outputs": [
        {
          "output_type": "stream",
          "text": [
            "1.0\n",
            "0.0\n"
          ],
          "name": "stdout"
        }
      ]
    },
    {
      "cell_type": "code",
      "metadata": {
        "id": "HDvGWdH2ioVM",
        "colab_type": "code",
        "colab": {}
      },
      "source": [
        "num_features=64\n",
        "num_labels=7\n",
        "batchsize=16\n",
        "epochs=30"
      ],
      "execution_count": 0,
      "outputs": []
    },
    {
      "cell_type": "code",
      "metadata": {
        "id": "ty60Y1iNnUT8",
        "colab_type": "code",
        "colab": {}
      },
      "source": [
        "from tensorflow.keras.layers import MaxPooling2D, Dropout\n",
        "from tensorflow.keras.optimizers import Adam\n",
        "from tensorflow import one_hot"
      ],
      "execution_count": 0,
      "outputs": []
    },
    {
      "cell_type": "code",
      "metadata": {
        "id": "QqsQyg_ijT7t",
        "colab_type": "code",
        "colab": {}
      },
      "source": [
        "model=Sequential()\n",
        "model.add(Conv2D(64,kernel_size=(3,3),activation='relu',input_shape=x_train[0].shape))\n",
        "model.add(Conv2D(64,kernel_size=(3,3),activation='relu'))\n",
        "model.add(MaxPooling2D(pool_size=(2, 2),strides=(2,2)))\n",
        "\n",
        "model.add(Conv2D(128,kernel_size=(3,3),activation='relu'))\n",
        "model.add(Conv2D(128,kernel_size=(3,3),activation='relu'))\n",
        "model.add(MaxPooling2D(pool_size=(2, 2),strides=(2,2)))\n",
        "\n",
        "model.add(Conv2D(256,kernel_size=(3,3),activation='relu'))\n",
        "model.add(Conv2D(256,kernel_size=(3,3),activation='relu'))\n",
        "model.add(MaxPooling2D(pool_size=(2, 2),strides=(2,2)))\n",
        "\n",
        "model.add(Flatten())\n",
        "model.add(Dense(1024,activation='relu'))\n",
        "model.add(Dense(1024,activation='relu'))\n",
        "model.add(Dense(7,activation='softmax'))"
      ],
      "execution_count": 0,
      "outputs": []
    },
    {
      "cell_type": "code",
      "metadata": {
        "id": "OtJWGSDoliwc",
        "colab_type": "code",
        "colab": {}
      },
      "source": [
        "#model.compile(loss='sparse_categorical_crossentropy',optimizer=Adam(learning_rate=0.001),metrics=['Accuracy'])\n",
        "model.compile(optimizer=Adam(lr=0.0005),loss='sparse_categorical_crossentropy',metrics=['accuracy'])"
      ],
      "execution_count": 0,
      "outputs": []
    },
    {
      "cell_type": "code",
      "metadata": {
        "id": "wq3-3vL0o6DH",
        "colab_type": "code",
        "outputId": "809e17fc-2b74-46e6-aff3-b56c73fc101c",
        "colab": {
          "base_uri": "https://localhost:8080/",
          "height": 635
        }
      },
      "source": [
        "model.summary()"
      ],
      "execution_count": 0,
      "outputs": [
        {
          "output_type": "stream",
          "text": [
            "Model: \"sequential_52\"\n",
            "_________________________________________________________________\n",
            "Layer (type)                 Output Shape              Param #   \n",
            "=================================================================\n",
            "conv2d_282 (Conv2D)          (None, 46, 46, 64)        1792      \n",
            "_________________________________________________________________\n",
            "conv2d_283 (Conv2D)          (None, 44, 44, 64)        36928     \n",
            "_________________________________________________________________\n",
            "max_pooling2d_143 (MaxPoolin (None, 22, 22, 64)        0         \n",
            "_________________________________________________________________\n",
            "conv2d_284 (Conv2D)          (None, 20, 20, 128)       73856     \n",
            "_________________________________________________________________\n",
            "conv2d_285 (Conv2D)          (None, 18, 18, 128)       147584    \n",
            "_________________________________________________________________\n",
            "max_pooling2d_144 (MaxPoolin (None, 9, 9, 128)         0         \n",
            "_________________________________________________________________\n",
            "conv2d_286 (Conv2D)          (None, 7, 7, 256)         295168    \n",
            "_________________________________________________________________\n",
            "conv2d_287 (Conv2D)          (None, 5, 5, 256)         590080    \n",
            "_________________________________________________________________\n",
            "max_pooling2d_145 (MaxPoolin (None, 2, 2, 256)         0         \n",
            "_________________________________________________________________\n",
            "flatten_48 (Flatten)         (None, 1024)              0         \n",
            "_________________________________________________________________\n",
            "dense_128 (Dense)            (None, 1024)              1049600   \n",
            "_________________________________________________________________\n",
            "dense_129 (Dense)            (None, 1024)              1049600   \n",
            "_________________________________________________________________\n",
            "dense_130 (Dense)            (None, 7)                 7175      \n",
            "=================================================================\n",
            "Total params: 3,251,783\n",
            "Trainable params: 3,251,783\n",
            "Non-trainable params: 0\n",
            "_________________________________________________________________\n"
          ],
          "name": "stdout"
        }
      ]
    },
    {
      "cell_type": "code",
      "metadata": {
        "id": "nZzcMjrMus_1",
        "colab_type": "code",
        "colab": {}
      },
      "source": [
        ""
      ],
      "execution_count": 0,
      "outputs": []
    },
    {
      "cell_type": "code",
      "metadata": {
        "id": "8f_-6f3WvJ9L",
        "colab_type": "code",
        "colab": {}
      },
      "source": [
        "#y_train=one_hot(y_train,depth=7)\n",
        "#y_test=one_hot(y_test,depth=7)"
      ],
      "execution_count": 0,
      "outputs": []
    },
    {
      "cell_type": "code",
      "metadata": {
        "id": "yKB51u9brgmh",
        "colab_type": "code",
        "outputId": "b42e9fc1-10aa-4240-afe6-88fae11e20e7",
        "colab": {
          "base_uri": "https://localhost:8080/",
          "height": 1000
        }
      },
      "source": [
        "history=model.fit(x_train,y_train,validation_data=(x_test,y_test),verbose=1,shuffle=True,epochs=50)"
      ],
      "execution_count": 0,
      "outputs": [
        {
          "output_type": "stream",
          "text": [
            "Epoch 1/50\n",
            "28/28 [==============================] - 1s 33ms/step - loss: 1.8602 - accuracy: 0.2154 - val_loss: 1.7669 - val_accuracy: 0.2828\n",
            "Epoch 2/50\n",
            "28/28 [==============================] - 0s 13ms/step - loss: 1.8294 - accuracy: 0.2438 - val_loss: 1.7432 - val_accuracy: 0.2828\n",
            "Epoch 3/50\n",
            "28/28 [==============================] - 0s 13ms/step - loss: 1.8286 - accuracy: 0.2506 - val_loss: 1.6500 - val_accuracy: 0.3434\n",
            "Epoch 4/50\n",
            "28/28 [==============================] - 0s 14ms/step - loss: 1.3437 - accuracy: 0.4626 - val_loss: 0.8393 - val_accuracy: 0.6970\n",
            "Epoch 5/50\n",
            "28/28 [==============================] - 0s 13ms/step - loss: 0.8595 - accuracy: 0.6689 - val_loss: 0.6061 - val_accuracy: 0.7677\n",
            "Epoch 6/50\n",
            "28/28 [==============================] - 0s 13ms/step - loss: 0.6694 - accuracy: 0.7449 - val_loss: 0.4979 - val_accuracy: 0.8182\n",
            "Epoch 7/50\n",
            "28/28 [==============================] - 0s 13ms/step - loss: 0.6121 - accuracy: 0.7721 - val_loss: 0.4934 - val_accuracy: 0.8384\n",
            "Epoch 8/50\n",
            "28/28 [==============================] - 0s 13ms/step - loss: 0.4097 - accuracy: 0.8424 - val_loss: 0.2993 - val_accuracy: 0.8788\n",
            "Epoch 9/50\n",
            "28/28 [==============================] - 0s 13ms/step - loss: 0.3174 - accuracy: 0.8787 - val_loss: 0.3296 - val_accuracy: 0.8384\n",
            "Epoch 10/50\n",
            "28/28 [==============================] - 0s 14ms/step - loss: 0.2249 - accuracy: 0.9150 - val_loss: 0.1487 - val_accuracy: 0.9394\n",
            "Epoch 11/50\n",
            "28/28 [==============================] - 0s 14ms/step - loss: 0.2188 - accuracy: 0.9320 - val_loss: 0.1530 - val_accuracy: 0.9495\n",
            "Epoch 12/50\n",
            "28/28 [==============================] - 0s 13ms/step - loss: 0.1328 - accuracy: 0.9512 - val_loss: 0.2298 - val_accuracy: 0.9394\n",
            "Epoch 13/50\n",
            "28/28 [==============================] - 0s 13ms/step - loss: 0.1830 - accuracy: 0.9365 - val_loss: 0.0858 - val_accuracy: 0.9798\n",
            "Epoch 14/50\n",
            "28/28 [==============================] - 0s 13ms/step - loss: 0.1286 - accuracy: 0.9569 - val_loss: 0.0328 - val_accuracy: 0.9899\n",
            "Epoch 15/50\n",
            "28/28 [==============================] - 0s 13ms/step - loss: 0.0396 - accuracy: 0.9875 - val_loss: 0.0188 - val_accuracy: 0.9899\n",
            "Epoch 16/50\n",
            "28/28 [==============================] - 0s 13ms/step - loss: 0.0188 - accuracy: 0.9932 - val_loss: 0.0920 - val_accuracy: 0.9798\n",
            "Epoch 17/50\n",
            "28/28 [==============================] - 0s 13ms/step - loss: 0.0708 - accuracy: 0.9796 - val_loss: 0.0272 - val_accuracy: 0.9899\n",
            "Epoch 18/50\n",
            "28/28 [==============================] - 0s 13ms/step - loss: 0.0370 - accuracy: 0.9921 - val_loss: 0.0276 - val_accuracy: 0.9899\n",
            "Epoch 19/50\n",
            "28/28 [==============================] - 0s 13ms/step - loss: 0.0161 - accuracy: 0.9966 - val_loss: 0.0278 - val_accuracy: 0.9899\n",
            "Epoch 20/50\n",
            "28/28 [==============================] - 0s 13ms/step - loss: 0.0132 - accuracy: 0.9977 - val_loss: 0.0262 - val_accuracy: 0.9798\n",
            "Epoch 21/50\n",
            "28/28 [==============================] - 0s 13ms/step - loss: 0.0042 - accuracy: 1.0000 - val_loss: 7.7462e-04 - val_accuracy: 1.0000\n",
            "Epoch 22/50\n",
            "28/28 [==============================] - 0s 14ms/step - loss: 7.0029e-04 - accuracy: 1.0000 - val_loss: 7.5397e-04 - val_accuracy: 1.0000\n",
            "Epoch 23/50\n",
            "28/28 [==============================] - 0s 13ms/step - loss: 2.4497e-04 - accuracy: 1.0000 - val_loss: 5.3925e-04 - val_accuracy: 1.0000\n",
            "Epoch 24/50\n",
            "28/28 [==============================] - 0s 13ms/step - loss: 1.7073e-04 - accuracy: 1.0000 - val_loss: 4.9806e-04 - val_accuracy: 1.0000\n",
            "Epoch 25/50\n",
            "28/28 [==============================] - 0s 13ms/step - loss: 1.3763e-04 - accuracy: 1.0000 - val_loss: 4.0743e-04 - val_accuracy: 1.0000\n",
            "Epoch 26/50\n",
            "28/28 [==============================] - 0s 13ms/step - loss: 1.1406e-04 - accuracy: 1.0000 - val_loss: 4.0291e-04 - val_accuracy: 1.0000\n",
            "Epoch 27/50\n",
            "28/28 [==============================] - 0s 14ms/step - loss: 9.7926e-05 - accuracy: 1.0000 - val_loss: 3.5459e-04 - val_accuracy: 1.0000\n",
            "Epoch 28/50\n",
            "28/28 [==============================] - 0s 13ms/step - loss: 8.5333e-05 - accuracy: 1.0000 - val_loss: 3.0805e-04 - val_accuracy: 1.0000\n",
            "Epoch 29/50\n",
            "28/28 [==============================] - 0s 13ms/step - loss: 7.4576e-05 - accuracy: 1.0000 - val_loss: 3.0870e-04 - val_accuracy: 1.0000\n",
            "Epoch 30/50\n",
            "28/28 [==============================] - 0s 13ms/step - loss: 6.6152e-05 - accuracy: 1.0000 - val_loss: 2.7441e-04 - val_accuracy: 1.0000\n",
            "Epoch 31/50\n",
            "28/28 [==============================] - 0s 13ms/step - loss: 5.9756e-05 - accuracy: 1.0000 - val_loss: 2.2612e-04 - val_accuracy: 1.0000\n",
            "Epoch 32/50\n",
            "28/28 [==============================] - 0s 13ms/step - loss: 5.3014e-05 - accuracy: 1.0000 - val_loss: 2.2906e-04 - val_accuracy: 1.0000\n",
            "Epoch 33/50\n",
            "28/28 [==============================] - 0s 13ms/step - loss: 4.8472e-05 - accuracy: 1.0000 - val_loss: 2.2174e-04 - val_accuracy: 1.0000\n",
            "Epoch 34/50\n",
            "28/28 [==============================] - 0s 13ms/step - loss: 4.4056e-05 - accuracy: 1.0000 - val_loss: 2.1929e-04 - val_accuracy: 1.0000\n",
            "Epoch 35/50\n",
            "28/28 [==============================] - 0s 14ms/step - loss: 4.0128e-05 - accuracy: 1.0000 - val_loss: 1.9267e-04 - val_accuracy: 1.0000\n",
            "Epoch 36/50\n",
            "28/28 [==============================] - 0s 13ms/step - loss: 3.6772e-05 - accuracy: 1.0000 - val_loss: 1.8741e-04 - val_accuracy: 1.0000\n",
            "Epoch 37/50\n",
            "28/28 [==============================] - 0s 13ms/step - loss: 3.3743e-05 - accuracy: 1.0000 - val_loss: 1.6851e-04 - val_accuracy: 1.0000\n",
            "Epoch 38/50\n",
            "28/28 [==============================] - 0s 13ms/step - loss: 3.0887e-05 - accuracy: 1.0000 - val_loss: 1.8115e-04 - val_accuracy: 1.0000\n",
            "Epoch 39/50\n",
            "28/28 [==============================] - 0s 13ms/step - loss: 2.9094e-05 - accuracy: 1.0000 - val_loss: 1.4074e-04 - val_accuracy: 1.0000\n",
            "Epoch 40/50\n",
            "28/28 [==============================] - 0s 14ms/step - loss: 2.6371e-05 - accuracy: 1.0000 - val_loss: 1.4294e-04 - val_accuracy: 1.0000\n",
            "Epoch 41/50\n",
            "28/28 [==============================] - 0s 13ms/step - loss: 2.4374e-05 - accuracy: 1.0000 - val_loss: 1.3268e-04 - val_accuracy: 1.0000\n",
            "Epoch 42/50\n",
            "28/28 [==============================] - 0s 13ms/step - loss: 2.2507e-05 - accuracy: 1.0000 - val_loss: 1.3034e-04 - val_accuracy: 1.0000\n",
            "Epoch 43/50\n",
            "28/28 [==============================] - 0s 13ms/step - loss: 2.1355e-05 - accuracy: 1.0000 - val_loss: 1.3580e-04 - val_accuracy: 1.0000\n",
            "Epoch 44/50\n",
            "28/28 [==============================] - 0s 13ms/step - loss: 1.9829e-05 - accuracy: 1.0000 - val_loss: 1.0627e-04 - val_accuracy: 1.0000\n",
            "Epoch 45/50\n",
            "28/28 [==============================] - 0s 13ms/step - loss: 1.8238e-05 - accuracy: 1.0000 - val_loss: 1.0755e-04 - val_accuracy: 1.0000\n",
            "Epoch 46/50\n",
            "28/28 [==============================] - 0s 13ms/step - loss: 1.7106e-05 - accuracy: 1.0000 - val_loss: 1.0009e-04 - val_accuracy: 1.0000\n",
            "Epoch 47/50\n",
            "28/28 [==============================] - 0s 13ms/step - loss: 1.5971e-05 - accuracy: 1.0000 - val_loss: 9.9399e-05 - val_accuracy: 1.0000\n",
            "Epoch 48/50\n",
            "28/28 [==============================] - 0s 13ms/step - loss: 1.5180e-05 - accuracy: 1.0000 - val_loss: 8.5287e-05 - val_accuracy: 1.0000\n",
            "Epoch 49/50\n",
            "28/28 [==============================] - 0s 14ms/step - loss: 1.4177e-05 - accuracy: 1.0000 - val_loss: 8.5755e-05 - val_accuracy: 1.0000\n",
            "Epoch 50/50\n",
            "28/28 [==============================] - 0s 13ms/step - loss: 1.3397e-05 - accuracy: 1.0000 - val_loss: 8.2100e-05 - val_accuracy: 1.0000\n"
          ],
          "name": "stdout"
        }
      ]
    },
    {
      "cell_type": "code",
      "metadata": {
        "id": "qPZBTkHE5kPE",
        "colab_type": "code",
        "outputId": "79fb325b-c3dd-4bd6-ff2e-742a5c0f6b6d",
        "colab": {
          "base_uri": "https://localhost:8080/",
          "height": 295
        }
      },
      "source": [
        "plt.plot(history.history['accuracy'])\n",
        "plt.plot(history.history['val_accuracy'])\n",
        "plt.title('model accuracy')\n",
        "plt.ylabel('accuracy')\n",
        "plt.xlabel('epoch')\n",
        "plt.legend(['train', 'val'], loc='upper left')\n",
        "plt.show()"
      ],
      "execution_count": 0,
      "outputs": [
        {
          "output_type": "display_data",
          "data": {
            "image/png": "[encoded data removed]",
            "text/plain": [
              "<Figure size 432x288 with 1 Axes>"
            ]
          },
          "metadata": {
            "tags": [],
            "needs_background": "light"
          }
        }
      ]
    },
    {
      "cell_type": "code",
      "metadata": {
        "id": "oOGC1E7r5rbN",
        "colab_type": "code",
        "outputId": "6f962fb7-a222-44d2-834e-5f69fd676b55",
        "colab": {
          "base_uri": "https://localhost:8080/",
          "height": 295
        }
      },
      "source": [
        "plt.plot(history.history['loss'])\n",
        "plt.plot(history.history['val_loss'])\n",
        "plt.title('model loss')\n",
        "plt.ylabel('loss')\n",
        "plt.xlabel('epoch')\n",
        "plt.legend(['train', 'val'], loc='upper left')\n",
        "plt.show()"
      ],
      "execution_count": 0,
      "outputs": [
        {
          "output_type": "display_data",
          "data": {
            "image/png": "[encoded data removed]",
            "text/plain": [
              "<Figure size 432x288 with 1 Axes>"
            ]
          },
          "metadata": {
            "tags": [],
            "needs_background": "light"
          }
        }
      ]
    },
    {
      "cell_type": "code",
      "metadata": {
        "id": "PXekuVUqtDVT",
        "colab_type": "code",
        "colab": {}
      },
      "source": [
        "fer_json=model.to_json()\n",
        "with open(\"/content/drive/My Drive/Projects/Facial Expression Detection/fer.json\",\"w\") as json_file:\n",
        "  json_file.write(fer_json)\n",
        "model.save_weights('/content/drive/My Drive/Projects/Facial Expression Detection/fer.h5')"
      ],
      "execution_count": 0,
      "outputs": []
    },
    {
      "cell_type": "code",
      "metadata": {
        "id": "QEFecTQ45uzI",
        "colab_type": "code",
        "colab": {}
      },
      "source": [
        ""
      ],
      "execution_count": 0,
      "outputs": []
    }
  ]
}